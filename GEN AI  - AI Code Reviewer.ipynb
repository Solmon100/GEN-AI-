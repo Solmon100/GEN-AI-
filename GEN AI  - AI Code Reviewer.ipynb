{
 "cells": [
  {
   "cell_type": "code",
   "execution_count": 2,
   "id": "ce7e751c",
   "metadata": {},
   "outputs": [],
   "source": [
    "from my_open_key import openapi_key\n",
    "import os\n",
    "os.environ[\"OPENAI_API_KEY\"] = openapi_key"
   ]
  },
  {
   "cell_type": "code",
   "execution_count": 3,
   "id": "c33e47aa",
   "metadata": {},
   "outputs": [],
   "source": [
    "OPENAI_API_KEY = openapi_key"
   ]
  },
  {
   "cell_type": "code",
   "execution_count": 4,
   "id": "43b32683",
   "metadata": {},
   "outputs": [],
   "source": [
    "from openai import OpenAI"
   ]
  },
  {
   "cell_type": "code",
   "execution_count": 5,
   "id": "3caca6c6",
   "metadata": {},
   "outputs": [],
   "source": [
    "client = OpenAI(api_key = OPENAI_API_KEY)"
   ]
  },
  {
   "cell_type": "code",
   "execution_count": 6,
   "id": "c6ffd544",
   "metadata": {},
   "outputs": [
    {
     "data": {
      "text/plain": [
       "SyncPage[Model](data=[Model(id='dall-e-3', created=1698785189, object='model', owned_by='system'), Model(id='gpt-4-1106-preview', created=1698957206, object='model', owned_by='system'), Model(id='dall-e-2', created=1698798177, object='model', owned_by='system'), Model(id='gpt-4o', created=1715367049, object='model', owned_by='system'), Model(id='tts-1-hd-1106', created=1699053533, object='model', owned_by='system'), Model(id='tts-1-hd', created=1699046015, object='model', owned_by='system'), Model(id='gpt-4-0125-preview', created=1706037612, object='model', owned_by='system'), Model(id='babbage-002', created=1692634615, object='model', owned_by='system'), Model(id='gpt-4-turbo-preview', created=1706037777, object='model', owned_by='system'), Model(id='text-embedding-3-small', created=1705948997, object='model', owned_by='system'), Model(id='text-embedding-3-large', created=1705953180, object='model', owned_by='system'), Model(id='gpt-3.5-turbo', created=1677610602, object='model', owned_by='openai'), Model(id='gpt-3.5-turbo-instruct', created=1692901427, object='model', owned_by='system'), Model(id='gpt-3.5-turbo-instruct-0914', created=1694122472, object='model', owned_by='system'), Model(id='gpt-4o-mini', created=1721172741, object='model', owned_by='system'), Model(id='gpt-4o-mini-2024-07-18', created=1721172717, object='model', owned_by='system'), Model(id='whisper-1', created=1677532384, object='model', owned_by='openai-internal'), Model(id='gpt-4o-2024-05-13', created=1715368132, object='model', owned_by='system'), Model(id='text-embedding-ada-002', created=1671217299, object='model', owned_by='openai-internal'), Model(id='gpt-3.5-turbo-16k', created=1683758102, object='model', owned_by='openai-internal'), Model(id='davinci-002', created=1692634301, object='model', owned_by='system'), Model(id='gpt-4-turbo-2024-04-09', created=1712601677, object='model', owned_by='system'), Model(id='tts-1-1106', created=1699053241, object='model', owned_by='system'), Model(id='gpt-3.5-turbo-0125', created=1706048358, object='model', owned_by='system'), Model(id='gpt-4-turbo', created=1712361441, object='model', owned_by='system'), Model(id='tts-1', created=1681940951, object='model', owned_by='openai-internal'), Model(id='gpt-3.5-turbo-1106', created=1698959748, object='model', owned_by='system'), Model(id='gpt-4-0613', created=1686588896, object='model', owned_by='openai'), Model(id='gpt-4', created=1687882411, object='model', owned_by='openai')], object='list')"
      ]
     },
     "execution_count": 6,
     "metadata": {},
     "output_type": "execute_result"
    }
   ],
   "source": [
    "client.models.list()"
   ]
  },
  {
   "cell_type": "code",
   "execution_count": 26,
   "id": "027f7f8e",
   "metadata": {},
   "outputs": [],
   "source": [
    "def AI_code_reviewer(prompt):\n",
    "    \n",
    "    response = client.chat.completions.create(\n",
    "          model = \"gpt-4o-mini\",\n",
    "          messages = [\n",
    "                  {\n",
    "                \"role\": \"system\",\n",
    "                \"content\": \"You are a helpful assistant.\"\n",
    "            },\n",
    "            {\n",
    "                \"role\": \"user\",\n",
    "                \"content\": f\"Review the following code and identify potential bugs or improvements. Provide the issues as a numbered list. Return only the list of issues with no extra text or explanations:\\n\\n{prompt}\"\n",
    "            },\n",
    "            {\n",
    "                \"role\": \"user\",\n",
    "                \"content\": f\"Here is the original code:\\n\\n{prompt}\\n\\nReturn only the issues in the format '1. Issue one; 2. Issue two;'. Do not include any additional information.\"\n",
    "            },\n",
    "              \n",
    "            ]\n",
    "                            \n",
    "          \n",
    "    )\n",
    "   \n",
    "    return response.choices[0].message.content"
   ]
  },
  {
   "cell_type": "code",
   "execution_count": 27,
   "id": "d9f9d26c",
   "metadata": {},
   "outputs": [],
   "source": [
    "def fixed_code(prompt):\n",
    "    response = client.chat.completions.create(\n",
    "        model = \"gpt-4o-mini\",\n",
    "        messages = [\n",
    "                {\"role\":\"system\",\n",
    "                    \"content\": \"You are a helpful assistant.\"},\n",
    "                 { \"role\": \"user\", \n",
    "                   \"content\":f\"Here is the original code:\\n\\n{prompt}\\n\\nBased on the following bug report:\\n\\n{prompt}\\n\\n Please provide the fixed code snippets without directly without any additional text or code blocks:\"}\n",
    "        ]\n",
    "    )\n",
    "    return response.choices[0].message.content"
   ]
  },
  {
   "cell_type": "code",
   "execution_count": 29,
   "id": "4babe10e",
   "metadata": {},
   "outputs": [
    {
     "name": "stdout",
     "output_type": "stream",
     "text": [
      "Enter your code:\n",
      "```import NUMPY as NP```\n",
      "\n",
      "Compiler Output:\n",
      "1. Incorrect module name; 2. Import statement is not following Python convention for module names (should be lowercase).\n"
     ]
    }
   ],
   "source": [
    "print(\"Enter your code:\")\n",
    "prompt = input()\n",
    "\n",
    "print()\n",
    "print(\"Compiler Output:\")\n",
    "print(AI_code_reviewer(prompt))"
   ]
  },
  {
   "cell_type": "code",
   "execution_count": 30,
   "id": "c13aae90",
   "metadata": {},
   "outputs": [
    {
     "name": "stdout",
     "output_type": "stream",
     "text": [
      "fixed code\n",
      "\n",
      "import numpy as np\n"
     ]
    }
   ],
   "source": [
    "print(\"fixed code\")\n",
    "print()\n",
    "print(fixed_code(prompt))"
   ]
  },
  {
   "cell_type": "code",
   "execution_count": null,
   "id": "29fabb71",
   "metadata": {},
   "outputs": [],
   "source": []
  }
 ],
 "metadata": {
  "kernelspec": {
   "display_name": "Python 3 (ipykernel)",
   "language": "python",
   "name": "python3"
  },
  "language_info": {
   "codemirror_mode": {
    "name": "ipython",
    "version": 3
   },
   "file_extension": ".py",
   "mimetype": "text/x-python",
   "name": "python",
   "nbconvert_exporter": "python",
   "pygments_lexer": "ipython3",
   "version": "3.11.5"
  }
 },
 "nbformat": 4,
 "nbformat_minor": 5
}
